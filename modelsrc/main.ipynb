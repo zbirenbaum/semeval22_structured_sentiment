{
 "cells": [
  {
   "cell_type": "code",
   "execution_count": 22,
   "metadata": {},
   "outputs": [],
   "source": [
    "from collections import defaultdict\n",
    "from microtc.utils import tweet_iterator\n",
    "from b4msa.textmodel import TextModel\n",
    "from df_builder import build_df\n",
    "from sklearn.svm import LinearSVC\n",
    "import pandas as pd\n",
    "from sklearn.preprocessing import LabelEncoder\n",
    "import json\n",
    "from os.path import join\n",
    "from util import load_dataset\n",
    "# dataset_names = ['multibooked_ca_dev','multibooked_ca_train','multibooked_eu_dev','multibooked_eu_train','norec_dev','norec_train','opener_en_dev','opener_en_train','opener_es_dev','opener_es_train']\n",
    "\n",
    "# multibooked_ca_dev = load_dataset('data/multibooked_ca/dev.json')\n",
    "# multibooked_ca_train = load_dataset('data/multibooked_ca/train.json')\n",
    "\n",
    "# multibooked_eu_dev = load_dataset('data/multibooked_eu/dev.json')\n",
    "# multibooked_eu_train = load_dataset('data/multibooked_eu/train.json')\n",
    "\n",
    "# norec_dev = load_dataset('data/norec/dev.json')\n",
    "# norec_train = load_dataset('data/norec/train.json')\n",
    "\n",
    "# opener_en_dev = load_dataset('data/opener_en/dev.json')\n",
    "# opener_en_train = load_dataset('data/opener_en/train.json')\n",
    "\n",
    "# opener_es_dev = load_dataset('data/opener_es/dev.json')\n",
    "# opener_es_train = load_dataset('data/opener_es/train.json')\n",
    "\n"
   ]
  },
  {
   "cell_type": "code",
   "execution_count": 18,
   "metadata": {},
   "outputs": [],
   "source": [
    "\n",
    "# datasets = {\n",
    "#     \"multibooked_ca_dev\":multibooked_ca_dev,\n",
    "#     \"multibooked_ca_train\":multibooked_ca_train,\n",
    "#     \"multibooked_eu_dev\":multibooked_eu_dev,\n",
    "#     \"multibooked_eu_train\":multibooked_eu_train,\n",
    "#     \"norec_dev\":norec_dev,\n",
    "#     \"norec_train\":norec_train,\n",
    "#     \"opener_en_dev\":opener_en_dev,\n",
    "#     \"opener_en_train\":opener_en_train,\n",
    "#     \"opener_es_dev\":opener_es_dev,\n",
    "#     \"opener_es_train\":opener_es_train}\n",
    "\n",
    "# count=dict()\n",
    "\n",
    "# for name in datasets.keys():\n",
    "#     count[name]=defaultdict(int)\n",
    "#     for line in datasets[name]:\n",
    "#         for o in line['opinions']:\n",
    "#             count[name][o['Polarity']] +=1\n",
    "#             count[name][o['Intensity']] +=1\n",
    "\n",
    "\n",
    "\n"
   ]
  },
  {
   "cell_type": "code",
   "execution_count": 23,
   "metadata": {},
   "outputs": [],
   "source": [
    "df = build_df()\n",
    "data_dict = df.to_dict()\n",
    "train_data=[]\n",
    "\n",
    "for id,text in data_dict['Polar_expression'].items():\n",
    "    train_data.append({\n",
    "        'id':id,\n",
    "        'klass': data_dict['Polarity'][id],\n",
    "        'text':text})\n",
    "tm = TextModel(lang=\"english\", token_list=[-1],stemming=True).fit(train_data)\n",
    "le = LabelEncoder().fit(['Negative','Positive'])\n",
    "X = tm.transform(train_data)\n",
    "y = le.transform([x['klass'] for x in train_data])\n",
    "m = LinearSVC().fit(X, y)\n"
   ]
  },
  {
   "cell_type": "code",
   "execution_count": 33,
   "metadata": {},
   "outputs": [
    {
     "data": {
      "text/plain": [
       "'Positive'"
      ]
     },
     "execution_count": 33,
     "metadata": {},
     "output_type": "execute_result"
    }
   ],
   "source": [
    "le.inverse_transform(m.predict(tm.transform(['fuck this assignment'])))[0]\n"
   ]
  },
  {
   "cell_type": "code",
   "execution_count": null,
   "metadata": {},
   "outputs": [],
   "source": []
  }
 ],
 "metadata": {
  "interpreter": {
   "hash": "aee8b7b246df8f9039afb4144a1f6fd8d2ca17a180786b69acc140d282b71a49"
  },
  "kernelspec": {
   "display_name": "Python 3.9.6 64-bit",
   "language": "python",
   "name": "python3"
  },
  "language_info": {
   "codemirror_mode": {
    "name": "ipython",
    "version": 3
   },
   "file_extension": ".py",
   "mimetype": "text/x-python",
   "name": "python",
   "nbconvert_exporter": "python",
   "pygments_lexer": "ipython3",
   "version": "3.9.6"
  },
  "orig_nbformat": 4
 },
 "nbformat": 4,
 "nbformat_minor": 2
}
